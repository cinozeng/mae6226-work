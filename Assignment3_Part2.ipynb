{
 "cells": [
  {
   "cell_type": "markdown",
   "metadata": {},
   "source": [
    "# Part 2"
   ]
  },
  {
   "cell_type": "code",
   "execution_count": 1,
   "metadata": {
    "collapsed": true
   },
   "outputs": [],
   "source": [
    "import os\n",
    "import numpy as np\n",
    "from scipy import integrate, linalg\n",
    "from matplotlib import pyplot as plt\n",
    "%matplotlib inline"
   ]
  },
  {
   "cell_type": "code",
   "execution_count": 2,
   "metadata": {
    "collapsed": true
   },
   "outputs": [],
   "source": [
    "# define functions the same as part 1\n",
    "class Panel:\n",
    "    \"\"\"\n",
    "    Contains information related to a panel.\n",
    "    \"\"\"\n",
    "    def __init__(self, xa, ya, xb, yb):\n",
    "        \"\"\"\n",
    "        Initializes the panel.\n",
    "        \n",
    "        Sets the end-points and calculates the center-point, length,\n",
    "        and angle (with the x-axis) of the panel.\n",
    "        Defines if the panel is located on the upper or lower surface of the geometry.\n",
    "        Initializes the source-strength, tangential velocity, and pressure coefficient\n",
    "        of the panel to zero.\n",
    "        \n",
    "        Parameters\n",
    "        ---------_\n",
    "        xa: float\n",
    "            x-coordinate of the first end-point.\n",
    "        ya: float\n",
    "            y-coordinate of the first end-point.\n",
    "        xb: float\n",
    "            x-coordinate of the second end-point.\n",
    "        yb: float\n",
    "            y-coordinate of the second end-point.\n",
    "        \"\"\"\n",
    "        self.xa, self.ya = xa, ya # panel starting-point\n",
    "        self.xb, self.yb = xb, yb # panel ending-point\n",
    "        \n",
    "        self.xc, self.yc = (xa+xb)/2, (ya+yb)/2         # panel center\n",
    "        self.length = np.sqrt((xb-xa)**2+(yb-ya)**2) # panel length\n",
    "        \n",
    "        # orientation of panel (angle btw x-axis and panel's normal)\n",
    "        if xb-xa <= 0.0:\n",
    "            self.beta = np.arccos((yb-ya)/self.length)\n",
    "        elif xb-xa > 0.0:\n",
    "            self.beta = np.pi + np.arccos(-(yb-ya)/self.length)\n",
    "        \n",
    "        # panel location\n",
    "        if self.beta <= np.pi:\n",
    "            self.loc = 'upper' # upper surface\n",
    "        else:\n",
    "            self.loc = 'lower' # lower surface\n",
    "        \n",
    "        self.sigma = 0.0 # source strength\n",
    "        self.vt = 0.0    # tangential velocity\n",
    "        self.cp = 0.0    # pressure coefficient\n",
    "\n",
    "class Freestream:\n",
    "    \"\"\"\n",
    "    Freestream conditions.\n",
    "    \"\"\"\n",
    "    def __init__(self, u_inf=1.0, alpha=0.0):\n",
    "        \"\"\"\n",
    "        Sets the freestream speed and angle (in degrees).\n",
    "        \n",
    "        Parameters\n",
    "        ----------\n",
    "        u_inf: float, optional\n",
    "            Freestream speed;\n",
    "            default: 1.0.\n",
    "        alpha: float, optional\n",
    "            Angle of attack in degrees;\n",
    "            default 0.0.\n",
    "        \"\"\"\n",
    "        self.u_inf = u_inf\n",
    "        self.alpha = alpha*np.pi/180.0 # degrees to radians      \n",
    "        \n",
    "def integral(x, y, panel, dxdk, dydk):\n",
    "    \"\"\"\n",
    "    Evaluates the contribution from a panel at a given point.\n",
    "    \n",
    "    Parameters\n",
    "    ----------\n",
    "    x: float\n",
    "        x-coordinate of the target point.\n",
    "    y: float\n",
    "        y-coordinate of the target point.\n",
    "    panel: Panel object\n",
    "        Panel whose contribution is evaluated.\n",
    "    dxdk: float\n",
    "        Value of the derivative of x in a certain direction.\n",
    "    dydk: float\n",
    "        Value of the derivative of y in a certain direction.\n",
    "    \n",
    "    Returns\n",
    "    -------\n",
    "    Contribution from the panel at a given point (x, y).\n",
    "    \"\"\"\n",
    "    def integrand(s):\n",
    "        return ( ((x - (panel.xa - np.sin(panel.beta)*s))*dxdk\n",
    "                  +(y - (panel.ya + np.cos(panel.beta)*s))*dydk)\n",
    "                / ((x - (panel.xa - np.sin(panel.beta)*s))**2\n",
    "                   +(y - (panel.ya + np.cos(panel.beta)*s))**2) )\n",
    "    return integrate.quad(integrand, 0.0, panel.length)[0]\n",
    "\n",
    "\n",
    "def source_contribution_normal(panels):\n",
    "    \"\"\"\n",
    "    Builds the source contribution matrix for the normal velocity.\n",
    "    \n",
    "    Parameters\n",
    "    ----------\n",
    "    panels: 1D array of Panel objects\n",
    "        List of panels.\n",
    "    \n",
    "    Returns\n",
    "    -------\n",
    "    A: 2D Numpy array of floats\n",
    "        Source contribution matrix.\n",
    "    \"\"\"\n",
    "    A = np.empty((panels.size, panels.size), dtype=float)\n",
    "    # source contribution on a panel from itself\n",
    "    np.fill_diagonal(A, 0.5)\n",
    "    # source contribution on a panel from others\n",
    "    for i, panel_i in enumerate(panels):\n",
    "        for j, panel_j in enumerate(panels):\n",
    "            if i != j:\n",
    "                A[i, j] = 0.5/np.pi*integral(panel_i.xc, panel_i.yc, \n",
    "                                                panel_j,\n",
    "                                                np.cos(panel_i.beta),\n",
    "                                                np.sin(panel_i.beta))\n",
    "    return A\n",
    "\n",
    "\n",
    "def vortex_contribution_normal(panels):\n",
    "    \"\"\"\n",
    "    Builds the vortex contribution matrix for the normal velocity.\n",
    "    \n",
    "    Parameters\n",
    "    ----------\n",
    "    panels: 1D array of Panel objects\n",
    "        List of panels.\n",
    "    \n",
    "    Returns\n",
    "    -------\n",
    "    A: 2D Numpy array of floats\n",
    "        Vortex contribution matrix.\n",
    "    \"\"\"\n",
    "    A = np.empty((panels.size, panels.size), dtype=float)\n",
    "    # vortex contribution on a panel from itself\n",
    "    np.fill_diagonal(A, 0.0)\n",
    "    # vortex contribution on a panel from others\n",
    "    for i, panel_i in enumerate(panels):\n",
    "        for j, panel_j in enumerate(panels):\n",
    "            if i != j:\n",
    "                A[i, j] = -0.5/np.pi*integral(panel_i.xc, panel_i.yc, \n",
    "                                                 panel_j,\n",
    "                                                 np.sin(panel_i.beta),\n",
    "                                                 -np.cos(panel_i.beta))\n",
    "    return A\n",
    "\n",
    "\n",
    "def kutta_condition(A_source, B_vortex):\n",
    "    \"\"\"\n",
    "    Builds the Kutta condition array.\n",
    "    \n",
    "    Parameters\n",
    "    ----------\n",
    "    A_source: 2D Numpy array of floats\n",
    "        Source contribution matrix for the normal velocity.\n",
    "    B_vortex: 2D Numpy array of floats\n",
    "        Vortex contribution matrix for the normal velocity.\n",
    "    \n",
    "    Returns\n",
    "    -------\n",
    "    b: 1D Numpy array of floats\n",
    "        The left-hand side of the Kutta-condition equation.\n",
    "    \"\"\"\n",
    "    b = np.empty([2,A_source.shape[1]+2], dtype=float)\n",
    "    # matrix of source contribution on tangential velocity\n",
    "    # is the same than\n",
    "    # matrix of vortex contribution on normal velocity\n",
    "    b[0,:-2] = B_vortex[0, :] + B_vortex[N-2, :]\n",
    "    b[1,:-2] = B_vortex[N-1, :] + B_vortex[2*N-3, :]\n",
    "    # matrix of vortex contribution on tangential velocity\n",
    "    # is the opposite of\n",
    "    # matrix of source contribution on normal velocity\n",
    "    b[-2, -2] = - np.sum(A_source[0,:N-1] + A_source[N-2,:N-1])\n",
    "    b[-2, -1] = - np.sum(A_source[0,N-1:] + A_source[N-2,N-1:])\n",
    "    b[-1, -2] = - np.sum(A_source[N-1,:N-1] + A_source[2*N-3,:N-1])\n",
    "    b[-1, -1] = - np.sum(A_source[N-1,N-1:] + A_source[2*N-3,N-1:])\n",
    "    return b\n",
    "\n",
    "\n",
    "def build_singularity_matrix(A_source, B_vortex):\n",
    "    \"\"\"\n",
    "    Builds the left-hand side matrix of the system\n",
    "    arising from source and vortex contributions.\n",
    "    \n",
    "    Parameters\n",
    "    ----------\n",
    "    A_source: 2D Numpy array of floats\n",
    "        Source contribution matrix for the normal velocity.\n",
    "    B_vortex: 2D Numpy array of floats\n",
    "        Vortex contribution matrix for the normal velocity.\n",
    "    \n",
    "    Returns\n",
    "    -------\n",
    "    A:  2D Numpy array of floats\n",
    "        Matrix of the linear system.\n",
    "    \"\"\"\n",
    "    A = np.empty((A_source.shape[0]+2, A_source.shape[0]+2), dtype=float)\n",
    "    # source contribution matrix\n",
    "    A[:-2, :-2] = A_source\n",
    "    # vortex contribution array\n",
    "    A[:-2, -2] = np.sum(B_vortex[:,:N-1], axis=1)  \n",
    "    A[:-2, -1] = np.sum(B_vortex[:,N-1:], axis=1)\n",
    "    # Kutta condition array\n",
    "    A[-2:, :] = kutta_condition(A_source, B_vortex)\n",
    "    return A\n",
    "\n",
    "\n",
    "def build_freestream_rhs(panels, freestream):\n",
    "    \"\"\"\n",
    "    Builds the right-hand side of the system \n",
    "    arising from the freestream contribution.\n",
    "    \n",
    "    Parameters\n",
    "    ----------\n",
    "    panels: 1D array of Panel objects\n",
    "        List of panels.\n",
    "    freestream: Freestream object\n",
    "        Freestream conditions.\n",
    "    \n",
    "    Returns\n",
    "    -------\n",
    "    b: 1D Numpy array of floats\n",
    "        Freestream contribution on each panel and on the Kutta condition.\n",
    "    \"\"\"\n",
    "    b = np.empty(panels.size+2,dtype=float)\n",
    "    # freestream contribution on each panel\n",
    "    for i, panel in enumerate(panels):\n",
    "        b[i] = -freestream.u_inf * np.cos(freestream.alpha - panel.beta)\n",
    "    # freestream contribution on the Kutta condition\n",
    "    b[-2] = -freestream.u_inf * (np.sin(freestream.alpha-panels[0].beta)\n",
    "                              + np.sin(freestream.alpha-panels[N-2].beta) )\n",
    "    b[-1] = -freestream.u_inf * (np.sin(freestream.alpha-panels[N-1].beta)\n",
    "                              + np.sin(freestream.alpha-panels[2*N-3].beta) )\n",
    "    return b\n",
    "\n",
    "        \n",
    "def compute_tangential_velocity(panels, freestream, gamma_main, gamma_flap, A_source, B_vortex):\n",
    "    \"\"\"\n",
    "    Computes the tangential surface velocity.\n",
    "    \n",
    "    Parameters\n",
    "    ----------\n",
    "    panels: 1D array of Panel objects\n",
    "        List of panels.\n",
    "    freestream: Freestream object\n",
    "        Freestream conditions.\n",
    "    gamma_main: float\n",
    "        Circulation density.\n",
    "    gamma_flap: float\n",
    "        Circulation density.\n",
    "    A_source: 2D Numpy array of floats\n",
    "        Source contribution matrix for the normal velocity.\n",
    "    B_vortex: 2D Numpy array of floats\n",
    "        Vortex contribution matrix for the normal velocity.\n",
    "    \"\"\"\n",
    "    A = np.empty((panels.size, panels.size+2), dtype=float)\n",
    "    # matrix of source contribution on tangential velocity\n",
    "    # is the same than\n",
    "    # matrix of vortex contribution on normal velocity\n",
    "    A[:, :-2] = B_vortex\n",
    "    # matrix of vortex contribution on tangential velocity\n",
    "    # is the opposite of\n",
    "    # matrix of source contribution on normal velocity\n",
    "    A[:, -2] = -np.sum(A_source[:,:N-1], axis=1)\n",
    "    A[:, -1] = -np.sum(A_source[:,N-1:], axis=1)\n",
    "    # freestream contribution\n",
    "    b = freestream.u_inf * np.sin([freestream.alpha-panel.beta \n",
    "                                    for panel in panels])\n",
    "    \n",
    "    strengths = np.append([panel.sigma for panel in panels], gamma_main)\n",
    "    strengths = np.append(strengths,gamma_flap)\n",
    "    \n",
    "    tangential_velocities = np.dot(A, strengths) + b\n",
    "    \n",
    "    for i, panel in enumerate(panels):\n",
    "        panel.vt = tangential_velocities[i]\n",
    "        "
   ]
  },
  {
   "cell_type": "code",
   "execution_count": 3,
   "metadata": {
    "collapsed": true
   },
   "outputs": [],
   "source": [
    "def rotate(theta,x,y):\n",
    "    \n",
    "    \"\"\"Rotates coordinates on the flap foil.\n",
    "    Parameters\n",
    "    ---------\n",
    "    x, y -- coordinates to rotate\n",
    "    theta -- degrees of flap rotation\n",
    "    \"\"\"\n",
    "    \n",
    "    point=[1.03,-0.054]\n",
    "    theta1=theta/180*np.pi\n",
    "    x_1,y_1=0,0\n",
    "    x_1=x-point[0]*np.ones_like(x)\n",
    "    y_1=y-point[1]*np.ones_like(y)\n",
    "    x_r=x_1*np.cos(theta1)+y_1*np.sin(theta1)+point[0]*np.ones_like(x)\n",
    "    y_r=x_1*(-1)*np.sin(theta1)+y_1*np.cos(theta1)+point[1]*np.ones_like(y)\n",
    "    return x_r,y_r"
   ]
  },
  {
   "cell_type": "code",
   "execution_count": 4,
   "metadata": {
    "collapsed": true
   },
   "outputs": [],
   "source": [
    "def panel_lift(panels):\n",
    "    \n",
    "    \"\"\"Computes lift.\n",
    "    \n",
    "    Parameters\n",
    "    ---------\n",
    "    panels -- array of panels.\n",
    "    \n",
    "    Returns\n",
    "    -------\n",
    "    L -- lift.\n",
    "    \"\"\"\n",
    "    N = panels.size\n",
    "    L = 0\n",
    "    for i in range(N-1):\n",
    "        L -= panels[i].cp*panels[i].length*np.sin(panels[i].beta)\n",
    "        \n",
    "    return L"
   ]
  },
  {
   "cell_type": "code",
   "execution_count": 5,
   "metadata": {
    "collapsed": false
   },
   "outputs": [],
   "source": [
    "mainfoil = np.genfromtxt('NACA23012_MainFoil.csv', delimiter =',')\n",
    "flapfoil = np.genfromtxt('NACA23012_FlapFoil.csv', delimiter =',')"
   ]
  },
  {
   "cell_type": "code",
   "execution_count": 6,
   "metadata": {
    "collapsed": true
   },
   "outputs": [],
   "source": [
    "# rearrange panel ends data\n",
    "main_x_ends, main_y_ends = mainfoil[:,0], mainfoil[:,1]\n",
    "flap_x_ends, flap_y_ends = flapfoil[:,0], flapfoil[:,1]\n",
    "\n",
    "N = np.size(main_x_ends)"
   ]
  },
  {
   "cell_type": "code",
   "execution_count": 7,
   "metadata": {
    "collapsed": false
   },
   "outputs": [
    {
     "data": {
      "image/png": "[encoded data removed]",
      "text/plain": [
       "<matplotlib.figure.Figure at 0x7fcb5ff52710>"
      ]
     },
     "metadata": {},
     "output_type": "display_data"
    }
   ],
   "source": [
    "# plot geometry\n",
    "width = 10\n",
    "plt.figure(figsize=(width, width))\n",
    "plt.grid()\n",
    "plt.xlabel('x', fontsize=16)\n",
    "plt.ylabel('y', fontsize=16)\n",
    "plt.plot(main_x_ends,main_y_ends, color='k', linestyle='-', linewidth=2)\n",
    "plt.plot(flap_x_ends,flap_y_ends, color='k', linestyle='-', linewidth=2)\n",
    "plt.axis('scaled', adjustable='box')\n",
    "plt.xlim(-0.1, 1.3)\n",
    "plt.ylim(-0.3, 0.3);"
   ]
  },
  {
   "cell_type": "code",
   "execution_count": 8,
   "metadata": {
    "collapsed": false
   },
   "outputs": [],
   "source": [
    "def total_lift(aoa, aof):\n",
    "    \"\"\"Computes the total lift.\n",
    "    \n",
    "    Arguments\n",
    "    ---------\n",
    "    aoa -- angle of attack.\n",
    "    aof -- angle of flap.\n",
    "    \n",
    "    Returns\n",
    "    ---------\n",
    "    L -- lift.\n",
    "    \"\"\"\n",
    "    \n",
    "    # define freestream conditions \n",
    "    u_inf = 1.0\n",
    "    freestream = Freestream(u_inf, aoa)\n",
    "    \n",
    "    # rotate the flap\n",
    "    flap_x_rot, flap_y_rot = rotate(aof,flap_x_ends,flap_y_ends)\n",
    "\n",
    "    # create panels\n",
    "    panels_main = np.empty(N-1, dtype = object)\n",
    "    panels_flap = np.empty(N-1, dtype = object)\n",
    "    for i in range(N-1):\n",
    "        panels_main[i] = Panel(main_x_ends[i], main_y_ends[i], main_x_ends[i+1], main_y_ends[i+1])\n",
    "        panels_flap[i] = Panel(flap_x_rot[i], flap_y_rot[i], flap_x_rot[i+1], flap_y_rot[i+1])\n",
    "        \n",
    "    # combine two parts of panels\n",
    "    panels = np.empty(2*N-2, dtype = object)\n",
    "    for i in range(N-1):\n",
    "        panels[i]=panels_main[i]\n",
    "        panels[N+i-1]=panels_flap[i]\n",
    "    \n",
    "    A_source = source_contribution_normal(panels)\n",
    "    B_vortex = vortex_contribution_normal(panels)\n",
    "    \n",
    "    A = build_singularity_matrix(A_source, B_vortex)\n",
    "    b = build_freestream_rhs(panels, freestream)\n",
    "    \n",
    "    # solve for singularity strengths\n",
    "    strengths = np.linalg.solve(A, b)\n",
    "    \n",
    "    # store source strength on each panel\n",
    "    for i , panel in enumerate(panels):\n",
    "        panel.sigma = strengths[i]\n",
    "        \n",
    "    # store circulation density\n",
    "    gamma_main = strengths[-2]\n",
    "    gamma_flap = strengths[-1]\n",
    "    \n",
    "    # computes the tangential velocity and cp at each panel\n",
    "    compute_tangential_velocity(panels, freestream, gamma_main, gamma_flap, A_source, B_vortex)\n",
    "    for panel in panels:\n",
    "        panel.cp = 1.0 - (panel.vt/freestream.u_inf)**2\n",
    "        \n",
    "    # calculates lift\n",
    "    lift = panel_lift(panels)\n",
    "    \n",
    "    return lift"
   ]
  },
  {
   "cell_type": "code",
   "execution_count": 9,
   "metadata": {
    "collapsed": false
   },
   "outputs": [],
   "source": [
    "def bisection_for_aoa(a,b,aof,tol):\n",
    "    \"\"\"Uses bisection method for solving angles of attack to obtain\n",
    "    zero lift at fixed angle of flap.\n",
    "    \n",
    "    Parameters\n",
    "    ---------\n",
    "    a -- interval start.\n",
    "    b -- interval stop.\n",
    "    aof -- angle of flap.\n",
    "    tol -- tolerence.\n",
    "    \n",
    "    Returns\n",
    "    ---------\n",
    "    aoa_c -- angle of attak when lift is zero.\n",
    "    \"\"\"\n",
    "    \n",
    "    L_a = total_lift(a, aof)\n",
    "    L_b = total_lift(b, aof)\n",
    "        \n",
    "    if np.sign(L_a) != np.sign(L_b):\n",
    "        aoa_c = (a+b)/2.\n",
    "        L_c = total_lift(aoa_c, aof)\n",
    "    \n",
    "   \n",
    "        if np.abs(L_c) < tol:\n",
    "            print ('The required angle of attack and lift are')\n",
    "            print (aoa_c, L_c)\n",
    "        \n",
    "        else:\n",
    "            print ('please wait')\n",
    "            \n",
    "            if np.sign(L_c) == np.sign(L_a):\n",
    "                bisection_for_aoa(aoa_c, b, aof, tol)\n",
    "            else:\n",
    "                bisection_for_aoa(a, aoa_c, aof, tol)\n",
    "    "
   ]
  },
  {
   "cell_type": "markdown",
   "metadata": {},
   "source": [
    "Question 1"
   ]
  },
  {
   "cell_type": "code",
   "execution_count": 10,
   "metadata": {
    "collapsed": false
   },
   "outputs": [
    {
     "name": "stdout",
     "output_type": "stream",
     "text": [
      "please wait\n",
      "please wait\n",
      "please wait\n",
      "please wait\n",
      "please wait\n",
      "please wait\n",
      "please wait\n",
      "please wait\n",
      "please wait\n",
      "The required angle of attack and lift are\n",
      "-10.96484375 -0.0003153349731\n"
     ]
    }
   ],
   "source": [
    "bisection_for_aoa(-14,14,20,0.001)"
   ]
  },
  {
   "cell_type": "code",
   "execution_count": 11,
   "metadata": {
    "collapsed": false
   },
   "outputs": [],
   "source": [
    "def bisection_for_aof(a, b, aoa, tol):\n",
    "    \"\"\"Uses bisection method for solving angles of flap to obtain\n",
    "    zero lift at fixed angle of attack.\n",
    "    \n",
    "    Parameters\n",
    "    ---------\n",
    "    a -- interval start.\n",
    "    b -- interval stop.\n",
    "    aoa -- angle of attack.\n",
    "    tol -- tolerence.\n",
    "    \n",
    "    Returns\n",
    "    ---------\n",
    "    aof_c -- angle of attak when lift is zero.\n",
    "    \"\"\"\n",
    "    \n",
    "    L_a = total_lift(aoa, a)\n",
    "    L_b = total_lift(aoa, b)\n",
    "    \n",
    "    if np.sign(L_a) != np.sign(L_b):\n",
    "        \n",
    "        aof_c = (a+b)/2.\n",
    "        L_c = total_lift(aoa, aof_c)\n",
    "   \n",
    "        if np.abs(L_c) < tol:\n",
    "            print ('The required angle of flap and lift are')\n",
    "            print (aof_c, L_c)\n",
    "            \n",
    "        else:\n",
    "            print ('please wait')\n",
    "            \n",
    "            if np.sign(L_c) == np.sign(L_a):\n",
    "                bisection_for_aof(aof_c, b, aoa, tol)\n",
    "            else:\n",
    "                bisection_for_aof(a, aof_c, aoa, tol)\n"
   ]
  },
  {
   "cell_type": "markdown",
   "metadata": {},
   "source": [
    "Question 2"
   ]
  },
  {
   "cell_type": "code",
   "execution_count": 12,
   "metadata": {
    "collapsed": false
   },
   "outputs": [
    {
     "name": "stdout",
     "output_type": "stream",
     "text": [
      "please wait\n",
      "please wait\n",
      "please wait\n",
      "please wait\n",
      "please wait\n",
      "please wait\n",
      "please wait\n",
      "please wait\n",
      "please wait\n",
      "The required angle of attack and lift are\n",
      "-4.51171875 -0.000121508167278\n"
     ]
    }
   ],
   "source": [
    "bisection_for_aof(-10,10,0,0.001)"
   ]
  },
  {
   "cell_type": "code",
   "execution_count": 13,
   "metadata": {
    "collapsed": true
   },
   "outputs": [],
   "source": [
    "# compute lift for fixed aoa=4, varying aof=0,5,10,15\n",
    "lift_aof_0 = total_lift(4, 0)\n",
    "lift_aof_5 = total_lift(4, 5)\n",
    "lift_aof_10 = total_lift(4, 10)\n",
    "lift_aof_15 = total_lift(4, 15)"
   ]
  },
  {
   "cell_type": "markdown",
   "metadata": {},
   "source": [
    "Question 3"
   ]
  },
  {
   "cell_type": "code",
   "execution_count": 14,
   "metadata": {
    "collapsed": false
   },
   "outputs": [
    {
     "name": "stdout",
     "output_type": "stream",
     "text": [
      "The speed slowing ratio at 5 deg flap setting is\n"
     ]
    },
    {
     "data": {
      "text/plain": [
       "0.14514725874244438"
      ]
     },
     "execution_count": 14,
     "metadata": {},
     "output_type": "execute_result"
    }
   ],
   "source": [
    "print('The speed slowing ratio at 5 deg flap setting is')\n",
    "1-np.sqrt(lift_aof_0/lift_aof_5)"
   ]
  },
  {
   "cell_type": "code",
   "execution_count": 15,
   "metadata": {
    "collapsed": false
   },
   "outputs": [
    {
     "name": "stdout",
     "output_type": "stream",
     "text": [
      "The speed slowing ratio at 10 deg flap setting is\n"
     ]
    },
    {
     "data": {
      "text/plain": [
       "0.24213267017217333"
      ]
     },
     "execution_count": 15,
     "metadata": {},
     "output_type": "execute_result"
    }
   ],
   "source": [
    "print('The speed slowing ratio at 10 deg flap setting is')\n",
    "1-np.sqrt(lift_aof_0/lift_aof_10)"
   ]
  },
  {
   "cell_type": "code",
   "execution_count": 16,
   "metadata": {
    "collapsed": false
   },
   "outputs": [
    {
     "name": "stdout",
     "output_type": "stream",
     "text": [
      "The speed slowing ratio at 15 deg flap setting is\n"
     ]
    },
    {
     "data": {
      "text/plain": [
       "0.31281875922639713"
      ]
     },
     "execution_count": 16,
     "metadata": {},
     "output_type": "execute_result"
    }
   ],
   "source": [
    "print('The speed slowing ratio at 15 deg flap setting is')\n",
    "1-np.sqrt(lift_aof_0/lift_aof_15)"
   ]
  },
  {
   "cell_type": "code",
   "execution_count": null,
   "metadata": {
    "collapsed": true
   },
   "outputs": [],
   "source": []
  }
 ],
 "metadata": {
  "anaconda-cloud": {},
  "kernelspec": {
   "display_name": "Python [default]",
   "language": "python",
   "name": "python3"
  },
  "language_info": {
   "codemirror_mode": {
    "name": "ipython",
    "version": 3
   },
   "file_extension": ".py",
   "mimetype": "text/x-python",
   "name": "python",
   "nbconvert_exporter": "python",
   "pygments_lexer": "ipython3",
   "version": "3.5.2"
  }
 },
 "nbformat": 4,
 "nbformat_minor": 1
}
