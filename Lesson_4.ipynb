{
 "cells": [
  {
   "cell_type": "code",
   "execution_count": 1,
   "metadata": {
    "collapsed": true
   },
   "outputs": [],
   "source": [
    "import numpy as np\n",
    "import math\n",
    "from matplotlib import pyplot\n",
    "%matplotlib inline"
   ]
  },
  {
   "cell_type": "code",
   "execution_count": 3,
   "metadata": {
    "collapsed": false
   },
   "outputs": [],
   "source": [
    "N = 50\n",
    "x_start, x_end = -2.0, 2.0\n",
    "y_start, y_end = -1.0, 1.0\n",
    "x = np.linspace(x_start, x_end, N)\n",
    "y = np.linspace(y_start, y_end, N)\n",
    "X, Y = np.meshgrid(x, y)"
   ]
  },
  {
   "cell_type": "code",
   "execution_count": 4,
   "metadata": {
    "collapsed": true
   },
   "outputs": [],
   "source": [
    "gamma = 5.0\n",
    "x_vortex, y_vortex = 0.0, 0.0"
   ]
  },
  {
   "cell_type": "code",
   "execution_count": 5,
   "metadata": {
    "collapsed": true
   },
   "outputs": [],
   "source": [
    "def get_velocity_vortex(strength, xv, yv, X, Y):\n",
    "    u = strength/(2*math.pi)*(Y-yv)/((X-xv)**2+(Y-yv)**2)\n",
    "    v = strength/(2*math.pi)*(X-xv)/((X-xv)**2+(Y-yv)**2)\n",
    "    return u, v"
   ]
  },
  {
   "cell_type": "code",
   "execution_count": 8,
   "metadata": {
    "collapsed": true
   },
   "outputs": [],
   "source": [
    "def get_stream_function_vortex(strength, xv, yv, X, Y):\n",
    "    psi = strength/(4*math.pi)*np.log((X-xv)**2+(Y-yv)**2)\n",
    "    return psi"
   ]
  },
  {
   "cell_type": "code",
   "execution_count": 9,
   "metadata": {
    "collapsed": false
   },
   "outputs": [],
   "source": [
    "u_vortex, v_vortex = get_velocity_vortex(gamma, x_vortex, y_vortex, X, Y)\n",
    "psi_vortex = get_stream_function_vortex(gamma, x_vortex, y_vortex, X, Y)"
   ]
  },
  {
   "cell_type": "code",
   "execution_count": null,
   "metadata": {
    "collapsed": true
   },
   "outputs": [],
   "source": []
  }
 ],
 "metadata": {
  "anaconda-cloud": {},
  "kernelspec": {
   "display_name": "Python [default]",
   "language": "python",
   "name": "python3"
  },
  "language_info": {
   "codemirror_mode": {
    "name": "ipython",
    "version": 3
   },
   "file_extension": ".py",
   "mimetype": "text/x-python",
   "name": "python",
   "nbconvert_exporter": "python",
   "pygments_lexer": "ipython3",
   "version": "3.5.2"
  }
 },
 "nbformat": 4,
 "nbformat_minor": 1
}
